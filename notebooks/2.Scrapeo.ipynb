{
 "cells": [
  {
   "cell_type": "code",
   "execution_count": 2,
   "metadata": {},
   "outputs": [
    {
     "data": {
      "text/plain": [
       "False"
      ]
     },
     "execution_count": 2,
     "metadata": {},
     "output_type": "execute_result"
    }
   ],
   "source": [
    "from bs4 import BeautifulSoup\n",
    "import requests\n",
    "import pandas as pd\n",
    "import numpy as np\n",
    "from time import sleep\n",
    "from selenium import webdriver  \n",
    "from selenium.webdriver.common.by import By\n",
    "import re\n",
    "import sys\n",
    "import os\n",
    "sys.path.append(os.path.abspath('../'))\n",
    "from src import soporte_scrap as sc\n",
    "import dotenv \n",
    "dotenv.load_dotenv()"
   ]
  },
  {
   "cell_type": "code",
   "execution_count": 4,
   "metadata": {},
   "outputs": [],
   "source": [
    "driver = webdriver.Chrome()\n",
    "url = 'https://www.imdb.com/es/'\n",
    "driver.get(url)\n",
    "driver.maximize_window()     #maximizo ventana\n",
    "driver.find_element(By.CSS_SELECTOR, '#__next > div > div > div.sc-jrcTuL.bPmWiM > div > button.icb-btn.sc-bcXHqe.sc-dkrFOg.sc-iBYQkv.dcvrLS.ddtuHe.dRCGjd').click()        #boton cookies\n",
    "sleep(5)           "
   ]
  },
  {
   "cell_type": "code",
   "execution_count": null,
   "metadata": {},
   "outputs": [],
   "source": [
    "                     #maximizo ventana\n",
    "driver.find_element(By.CSS_SELECTOR, '#__next > div > div > div.sc-jrcTuL.bPmWiM > div > button.icb-btn.sc-bcXHqe.sc-dkrFOg.sc-iBYQkv.dcvrLS.ddtuHe.dRCGjd').click()        #boton cookies\n",
    "sleep(5)\n",
    "driver.find_element(By.XPATH, '//*[@id=\"vue-welcome-modal\"]/div/div/header/p[2]').click()           #click ventana de cabecera\n",
    "sleep(5)\n",
    "driver.find_element(By.CSS_SELECTOR, '#pmfmenubar > div > div > ul > li:nth-child(1) > a').click()  #click todos los productos\n",
    "#click para ver mas productos, podempos darle las veces que queramos...\n",
    "driver.find_element(By.CSS_SELECTOR, '#wrapper > main > div.row.product-list > div > div.row > div.medium-8.large-10.columns > div:nth-child(6) > div > div > div').click()\n",
    "sleep(5)\n",
    "driver.find_element(By.CSS_SELECTOR, '#wrapper > main > div.row.product-list > div > div.row > div.medium-8.large-10.columns > div:nth-child(6) > div > div > div > span').click()\n",
    "sleep(5)\n",
    "driver.find_element(By.CSS_SELECTOR, '#wrapper > main > div.row.product-list > div > div.row > div.medium-8.large-10.columns > div:nth-child(6) > div > div > div > span').click()\n",
    "sleep(5)\n",
    "driver.find_element(By.CSS_SELECTOR, '#wrapper > main > div.row.product-list > div > div.row > div.medium-8.large-10.columns > div:nth-child(6) > div > div > div > span').click()\n",
    "\n",
    "html_page = driver.page_source\n",
    "sopa = BeautifulSoup(html_page)"
   ]
  }
 ],
 "metadata": {
  "kernelspec": {
   "display_name": "Python 3",
   "language": "python",
   "name": "python3"
  },
  "language_info": {
   "codemirror_mode": {
    "name": "ipython",
    "version": 3
   },
   "file_extension": ".py",
   "mimetype": "text/x-python",
   "name": "python",
   "nbconvert_exporter": "python",
   "pygments_lexer": "ipython3",
   "version": "3.12.6"
  }
 },
 "nbformat": 4,
 "nbformat_minor": 2
}
